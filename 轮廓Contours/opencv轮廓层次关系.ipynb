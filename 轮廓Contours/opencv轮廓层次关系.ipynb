{
 "cells": [
  {
   "cell_type": "markdown",
   "metadata": {},
   "source": [
    "本脚本学习cv2.findContours返回的hierarchy层次关系\n",
    "\n",
    "结果显示：\n",
    "- cv: : findContours 返回轮廓层次关系是[1, N, 4]，其中 N 是轮廓数量，4是表示层次关系的四元组：[下一个，上一个，First_Child，父]，元组内存储的是轮廓 Contours 的序号\n",
    "\t- **RETR_EXTERNAL**： 只寻找最高层级的轮廓 \n",
    "    - **RETR_LIST**： 最简单的一种寻找方式，它不建立轮廓间的子属关系，也就是所有轮廓都属于同一层级， hierarchy 中的后两个值[First Child, Parent]都为-1 \n",
    "    - **RETR_CCOMP**： 它把所有的轮廓只分为2个层级，不是外层的就是里层的 \n",
    "    - **RETR_TREE**： 完整建立轮廓的层级从属关系 "
   ]
  },
  {
   "cell_type": "code",
   "execution_count": 1,
   "metadata": {},
   "outputs": [],
   "source": [
    "\n",
    "# read code tools\n",
    "# share in https://gist.github.com/WuShaogui/19c690bde2a0fe70b061d50e20129531\n",
    "import sys\n",
    "import os.path as osp\n",
    "sys.path.append('/home/wushaogui/ReadCode/')\n",
    "from my_read_code_tools import *"
   ]
  },
  {
   "cell_type": "code",
   "execution_count": 2,
   "metadata": {},
   "outputs": [],
   "source": [
    "import numpy as  np\n",
    "import cv2"
   ]
  },
  {
   "cell_type": "code",
   "execution_count": 3,
   "metadata": {},
   "outputs": [
    {
     "data": {
      "image/png": "[encoded data removed]",
      "text/plain": [
       "<Figure size 360x360 with 1 Axes>"
      ]
     },
     "metadata": {
      "needs_background": "light"
     },
     "output_type": "display_data"
    }
   ],
   "source": [
    "img1 = np.zeros((300, 450,3), 'uint8')\n",
    "show_images([img1])"
   ]
  },
  {
   "cell_type": "code",
   "execution_count": 4,
   "metadata": {},
   "outputs": [
    {
     "data": {
      "image/png": "[encoded data removed]",
      "text/plain": [
       "<Figure size 360x360 with 1 Axes>"
      ]
     },
     "metadata": {
      "needs_background": "light"
     },
     "output_type": "display_data"
    }
   ],
   "source": [
    "img1 = cv2.line(img1,[30,10],[100,10],(0,100,255),4)\n",
    "img1 = cv2.line(img1,[120,15],[430,15],(0,100,255),4)\n",
    "img1 = cv2.rectangle(img1, [20,60 ,400 ,220],(0,100,255),2)\n",
    "img1 = cv2.rectangle(img1, [50 ,100, 340, 150],(0,100,255),2)\n",
    "img1 = cv2.rectangle(img1, [90 ,130 ,140 ,100],(0,100,255),-1)\n",
    "img1 = cv2.rectangle(img1, [260, 155, 100, 50],(0,100,255),-1)\n",
    "img1 = cv2.rectangle(img1, [105 ,150 ,100 ,20],0,-1);\n",
    "img1 = cv2.rectangle(img1, [105 ,190 ,100 ,30],0,-1);\n",
    "show_images([img1])"
   ]
  },
  {
   "cell_type": "code",
   "execution_count": 5,
   "metadata": {},
   "outputs": [
    {
     "data": {
      "text/plain": [
       "((8, 1, 2), (8, 1, 2), 10, (1, 10, 4))"
      ]
     },
     "execution_count": 5,
     "metadata": {},
     "output_type": "execute_result"
    }
   ],
   "source": [
    "contours,hierarchy=cv2.findContours(img1[...,-1],cv2.RETR_TREE,cv2.CHAIN_APPROX_SIMPLE)\n",
    "contours[0].shape,contours[1].shape,len(contours),hierarchy.shape"
   ]
  },
  {
   "cell_type": "code",
   "execution_count": 9,
   "metadata": {},
   "outputs": [],
   "source": [
    "import copy\n",
    "\n",
    "def render_image(contours):\n",
    "    img2=copy.deepcopy(img1)\n",
    "    for idx,contour in enumerate(contours):\n",
    "        if idx==1 or idx==3:\n",
    "            cv2.putText(img2,str(idx),(contour[0,0,0],contour[0,0,1]+15),cv2.FONT_HERSHEY_SCRIPT_SIMPLEX, 0.5, (255, 0, 0),2)\n",
    "        else:\n",
    "            cv2.putText(img2,str(idx),(contour[0,0,0],contour[0,0,1]),cv2.FONT_HERSHEY_SCRIPT_SIMPLEX, 0.5, (255, 0, 0),2)\n",
    "    show_images([img2])"
   ]
  },
  {
   "cell_type": "code",
   "execution_count": 10,
   "metadata": {},
   "outputs": [
    {
     "data": {
      "image/png": "[encoded data removed]",
      "text/plain": [
       "<Figure size 360x360 with 1 Axes>"
      ]
     },
     "metadata": {
      "needs_background": "light"
     },
     "output_type": "display_data"
    },
    {
     "data": {
      "text/plain": [
       "array([[[ 1, -1, -1, -1],\n",
       "        [ 2,  0, -1, -1],\n",
       "        [-1,  1, -1, -1]]], dtype=int32)"
      ]
     },
     "execution_count": 10,
     "metadata": {},
     "output_type": "execute_result"
    }
   ],
   "source": [
    "contours,hierarchy=cv2.findContours(img1[...,-1],cv2.RETR_EXTERNAL,cv2.CHAIN_APPROX_SIMPLE)\n",
    "render_image(contours)\n",
    "hierarchy"
   ]
  },
  {
   "cell_type": "code",
   "execution_count": 11,
   "metadata": {},
   "outputs": [
    {
     "data": {
      "image/png": "[encoded data removed]",
      "text/plain": [
       "<Figure size 360x360 with 1 Axes>"
      ]
     },
     "metadata": {
      "needs_background": "light"
     },
     "output_type": "display_data"
    },
    {
     "data": {
      "text/plain": [
       "array([[[ 1, -1, -1, -1],\n",
       "        [ 2,  0, -1, -1],\n",
       "        [ 3,  1, -1, -1],\n",
       "        [ 4,  2, -1, -1],\n",
       "        [ 5,  3, -1, -1],\n",
       "        [ 6,  4, -1, -1],\n",
       "        [ 7,  5, -1, -1],\n",
       "        [ 8,  6, -1, -1],\n",
       "        [ 9,  7, -1, -1],\n",
       "        [-1,  8, -1, -1]]], dtype=int32)"
      ]
     },
     "execution_count": 11,
     "metadata": {},
     "output_type": "execute_result"
    }
   ],
   "source": [
    "contours,hierarchy=cv2.findContours(img1[...,-1],cv2.RETR_LIST,cv2.CHAIN_APPROX_SIMPLE)\n",
    "render_image(contours)\n",
    "hierarchy"
   ]
  },
  {
   "cell_type": "code",
   "execution_count": 12,
   "metadata": {},
   "outputs": [
    {
     "data": {
      "image/png": "[encoded data removed]",
      "text/plain": [
       "<Figure size 360x360 with 1 Axes>"
      ]
     },
     "metadata": {
      "needs_background": "light"
     },
     "output_type": "display_data"
    },
    {
     "data": {
      "text/plain": [
       "array([[[ 1, -1, -1, -1],\n",
       "        [ 4,  0,  2, -1],\n",
       "        [ 3, -1, -1,  1],\n",
       "        [-1,  2, -1,  1],\n",
       "        [ 6,  1,  5, -1],\n",
       "        [-1, -1, -1,  4],\n",
       "        [ 8,  4,  7, -1],\n",
       "        [-1, -1, -1,  6],\n",
       "        [ 9,  6, -1, -1],\n",
       "        [-1,  8, -1, -1]]], dtype=int32)"
      ]
     },
     "execution_count": 12,
     "metadata": {},
     "output_type": "execute_result"
    }
   ],
   "source": [
    "contours,hierarchy=cv2.findContours(img1[...,-1],cv2.RETR_CCOMP,cv2.CHAIN_APPROX_SIMPLE)\n",
    "render_image(contours)\n",
    "hierarchy"
   ]
  },
  {
   "cell_type": "code",
   "execution_count": 13,
   "metadata": {},
   "outputs": [
    {
     "data": {
      "image/png": "[encoded data removed]",
      "text/plain": [
       "<Figure size 360x360 with 1 Axes>"
      ]
     },
     "metadata": {
      "needs_background": "light"
     },
     "output_type": "display_data"
    },
    {
     "data": {
      "text/plain": [
       "array([[[ 8, -1,  1, -1],\n",
       "        [-1, -1,  2,  0],\n",
       "        [-1, -1,  3,  1],\n",
       "        [-1, -1,  4,  2],\n",
       "        [ 5, -1, -1,  3],\n",
       "        [-1,  4,  6,  3],\n",
       "        [ 7, -1, -1,  5],\n",
       "        [-1,  6, -1,  5],\n",
       "        [ 9,  0, -1, -1],\n",
       "        [-1,  8, -1, -1]]], dtype=int32)"
      ]
     },
     "execution_count": 13,
     "metadata": {},
     "output_type": "execute_result"
    }
   ],
   "source": [
    "contours,hierarchy=cv2.findContours(img1[...,-1],cv2.RETR_TREE,cv2.CHAIN_APPROX_SIMPLE)\n",
    "render_image(contours)\n",
    "hierarchy"
   ]
  }
 ],
 "metadata": {
  "kernelspec": {
   "display_name": "Python 3.7.9 ('py37')",
   "language": "python",
   "name": "python3"
  },
  "language_info": {
   "codemirror_mode": {
    "name": "ipython",
    "version": 3
   },
   "file_extension": ".py",
   "mimetype": "text/x-python",
   "name": "python",
   "nbconvert_exporter": "python",
   "pygments_lexer": "ipython3",
   "version": "3.7.9"
  },
  "orig_nbformat": 4,
  "vscode": {
   "interpreter": {
    "hash": "61487615eafee894b899fd51b917459677ff8a3595dfae619652b8fa43a1dbd5"
   }
  }
 },
 "nbformat": 4,
 "nbformat_minor": 2
}
