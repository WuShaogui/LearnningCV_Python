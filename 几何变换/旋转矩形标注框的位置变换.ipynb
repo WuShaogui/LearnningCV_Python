{
    "cells": [
        {
            "cell_type": "markdown",
            "metadata": {},
            "source": [
                "本脚本是开发旋转目标检测时，用于验证旋转目标与四个点关系\n",
                "\n",
                "主要包括以下功能：\n",
                "1. 移动旋转目标框的一个点时，如何计算两个相邻点，使得保持矩形形状\n",
                "2. 绕中心旋转目标框时，四个点如何计算\n",
                "3. 已知两个点+鼠标位置，计算这个旋转矩形的四个点"
            ]
        },
        {
            "cell_type": "code",
            "execution_count": 1,
            "metadata": {},
            "outputs": [],
            "source": [
                "# read code tools\n",
                "# share in https://gist.github.com/WuShaogui/19c690bde2a0fe70b061d50e20129531\n",
                "import sys\n",
                "import os.path as osp\n",
                "sys.path.append('/home/wushaogui/ReadCode/')\n",
                "from my_read_code_tools import *"
            ]
        },
        {
            "cell_type": "markdown",
            "metadata": {},
            "source": [
                "# 移动某个点，计算另外两个动点"
            ]
        },
        {
            "cell_type": "code",
            "execution_count": 2,
            "metadata": {},
            "outputs": [
                {
                    "name": "stdout",
                    "output_type": "stream",
                    "text": [
                        "[[[200 200]]\n",
                        "\n",
                        " [[468 354]]\n",
                        "\n",
                        " [[500 300]]\n",
                        "\n",
                        " [[231 145]]]\n",
                        "[[[200 200]]\n",
                        "\n",
                        " [[393 311]]\n",
                        "\n",
                        " [[400 300]]\n",
                        "\n",
                        " [[206 188]]]\n"
                    ]
                },
                {
                    "data": {
                        "image/png": "[encoded data removed]",
                        "text/plain": [
                            "<Figure size 720x360 with 2 Axes>"
                        ]
                    },
                    "metadata": {
                        "needs_background": "light"
                    },
                    "output_type": "display_data"
                }
            ],
            "source": [
                "from math import tan,pi\n",
                "import numpy as np\n",
                "import cv2\n",
                "\n",
                "# 根据对角点以及角度，计算剩余的2个点\n",
                "def calculate_remaining_vertices_of_rotated_rectangle(A, B, rotation_angle):\n",
                "\n",
                "    if rotation_angle==0 or rotation_angle==90:\n",
                "        x1,y1=A[0],B[1]\n",
                "        x2,y2=B[0],A[1]\n",
                "    else:\n",
                "        q = rotation_angle*pi/180  # 另一边与x轴的角度\n",
                "        p = pi/2-q  # 旋转角度\n",
                "\n",
                "        # 计算剩下的两个点\n",
                "        x1=(tan(p)*B[0]+tan(q)*A[0]+B[1]-A[1])/((tan(p)+tan(q)))\n",
                "        y1=B[1]+tan(p)*(B[0]-x1)\n",
                "\n",
                "        x2=(A[1]-B[1]+tan(p)*A[0]+tan(q)*B[0])/(tan(p)+tan(q))\n",
                "        y2=B[1]+tan(q)*(x2-B[0])\n",
                "\n",
                "    return (x1,y1),(x2,y2)\n",
                "\n",
                "def show_rotated_rectangle(img,A, B, rotation_angle,color=(255, 0, 0)):\n",
                "    remaining_vertices=calculate_remaining_vertices_of_rotated_rectangle(A,B,rotation_angle)\n",
                "    pts1 = np.array([A,remaining_vertices[0],B,remaining_vertices[1]], np.int32)\n",
                "    pts1 = pts1.reshape((-1, 1, 2))\n",
                "    print(pts1)\n",
                "    cv2.polylines(img, [pts1], isClosed=True, color=color, thickness=2)\n",
                "\n",
                "    return img\n",
                "\n",
                "\n",
                "# 初始状态的对角点\n",
                "A = (200, 200) # (x,y)\n",
                "B = (500, 300)\n",
                "rotation_angle = 30  # 30度\n",
                "image = np.zeros((600, 600, 3), dtype=np.uint8)\n",
                "image1=show_rotated_rectangle(image.copy(),A, B, rotation_angle)\n",
                "\n",
                "A = (200, 200)\n",
                "B = (400, 300)\n",
                "image2=show_rotated_rectangle(image1.copy(),A, B, rotation_angle,color=(0,255,0))\n",
                "\n",
                "show_images([image1,image2])"
            ]
        },
        {
            "cell_type": "code",
            "execution_count": 3,
            "metadata": {},
            "outputs": [
                {
                    "name": "stdout",
                    "output_type": "stream",
                    "text": [
                        "[[[200 200]]\n",
                        "\n",
                        " [[468 354]]\n",
                        "\n",
                        " [[500 300]]\n",
                        "\n",
                        " [[231 145]]]\n",
                        "[[[300 250]]\n",
                        "\n",
                        " [[471 349]]\n",
                        "\n",
                        " [[500 300]]\n",
                        "\n",
                        " [[328 200]]]\n"
                    ]
                },
                {
                    "data": {
                        "image/png": "[encoded data removed]",
                        "text/plain": [
                            "<Figure size 720x360 with 2 Axes>"
                        ]
                    },
                    "metadata": {
                        "needs_background": "light"
                    },
                    "output_type": "display_data"
                }
            ],
            "source": [
                "# 初始状态的对角点\n",
                "A = (200, 200) # (x,y)\n",
                "B = (500, 300)\n",
                "rotation_angle = 30  # 30度\n",
                "\n",
                "image = np.zeros((600, 600, 3), dtype=np.uint8)\n",
                "image1=show_rotated_rectangle(image,A, B, rotation_angle)\n",
                "\n",
                "A = (300, 250)\n",
                "B = (500, 300)\n",
                "image2=show_rotated_rectangle(image1,A, B, rotation_angle,color=(0,255,0))\n",
                "\n",
                "show_images([image1,image2])"
            ]
        },
        {
            "cell_type": "code",
            "execution_count": 4,
            "metadata": {},
            "outputs": [
                {
                    "name": "stdout",
                    "output_type": "stream",
                    "text": [
                        "[[[200 200]]\n",
                        "\n",
                        " [[381  95]]\n",
                        "\n",
                        " [[500 300]]\n",
                        "\n",
                        " [[318 404]]]\n",
                        "[[[300 250]]\n",
                        "\n",
                        " [[428 175]]\n",
                        "\n",
                        " [[500 300]]\n",
                        "\n",
                        " [[371 374]]]\n"
                    ]
                },
                {
                    "data": {
                        "image/png": "[encoded data removed]",
                        "text/plain": [
                            "<Figure size 360x360 with 1 Axes>"
                        ]
                    },
                    "metadata": {
                        "needs_background": "light"
                    },
                    "output_type": "display_data"
                }
            ],
            "source": [
                "# 初始状态的对角点\n",
                "A = (200, 200) # (x,y)\n",
                "B = (500, 300)\n",
                "rotation_angle = -30  # 30度\n",
                "\n",
                "image = np.zeros((600, 600, 3), dtype=np.uint8)\n",
                "image1=show_rotated_rectangle(image,A, B, rotation_angle)\n",
                "\n",
                "A = (300, 250)\n",
                "B = (500, 300)\n",
                "image2=show_rotated_rectangle(image1,A, B, rotation_angle,color=(0,255,0))\n",
                "\n",
                "show_images([image2])"
            ]
        },
        {
            "cell_type": "code",
            "execution_count": 5,
            "metadata": {},
            "outputs": [
                {
                    "name": "stdout",
                    "output_type": "stream",
                    "text": [
                        "[[[200 200]]\n",
                        "\n",
                        " [[318 404]]\n",
                        "\n",
                        " [[500 300]]\n",
                        "\n",
                        " [[381  95]]]\n",
                        "[[[300 250]]\n",
                        "\n",
                        " [[371 374]]\n",
                        "\n",
                        " [[500 300]]\n",
                        "\n",
                        " [[428 175]]]\n"
                    ]
                },
                {
                    "data": {
                        "image/png": "[encoded data removed]",
                        "text/plain": [
                            "<Figure size 360x360 with 1 Axes>"
                        ]
                    },
                    "metadata": {
                        "needs_background": "light"
                    },
                    "output_type": "display_data"
                }
            ],
            "source": [
                "# 初始状态的对角点\n",
                "A = (200, 200) # (x,y)\n",
                "B = (500, 300)\n",
                "rotation_angle = 60  # 30度\n",
                "\n",
                "image = np.zeros((600, 600, 3), dtype=np.uint8)\n",
                "image1=show_rotated_rectangle(image,A, B, rotation_angle)\n",
                "\n",
                "A = (300, 250)\n",
                "B = (500, 300)\n",
                "image2=show_rotated_rectangle(image1,A, B, rotation_angle,color=(0,255,0))\n",
                "\n",
                "show_images([image2])"
            ]
        },
        {
            "cell_type": "code",
            "execution_count": 6,
            "metadata": {},
            "outputs": [
                {
                    "name": "stdout",
                    "output_type": "stream",
                    "text": [
                        "[[[200 200]]\n",
                        "\n",
                        " [[201 305]]\n",
                        "\n",
                        " [[500 300]]\n",
                        "\n",
                        " [[498 194]]]\n",
                        "[[[300 250]]\n",
                        "\n",
                        " [[300 303]]\n",
                        "\n",
                        " [[500 300]]\n",
                        "\n",
                        " [[499 246]]]\n"
                    ]
                },
                {
                    "data": {
                        "image/png": "[encoded data removed]",
                        "text/plain": [
                            "<Figure size 360x360 with 1 Axes>"
                        ]
                    },
                    "metadata": {
                        "needs_background": "light"
                    },
                    "output_type": "display_data"
                }
            ],
            "source": [
                "# 初始状态的对角点\n",
                "A = (200, 200) # (x,y)\n",
                "B = (500, 300)\n",
                "rotation_angle = 89  # 30度\n",
                "\n",
                "image = np.zeros((600, 600, 3), dtype=np.uint8)\n",
                "image1=show_rotated_rectangle(image,A, B, rotation_angle)\n",
                "\n",
                "A = (300, 250)\n",
                "B = (500, 300)\n",
                "image2=show_rotated_rectangle(image1,A, B, rotation_angle,color=(0,255,0))\n",
                "\n",
                "show_images([image2])"
            ]
        },
        {
            "cell_type": "code",
            "execution_count": 7,
            "metadata": {},
            "outputs": [
                {
                    "name": "stdout",
                    "output_type": "stream",
                    "text": [
                        "[[[150 200]]\n",
                        "\n",
                        " [[350 400]]\n",
                        "\n",
                        " [[300 450]]\n",
                        "\n",
                        " [[ 99 250]]]\n"
                    ]
                },
                {
                    "data": {
                        "image/png": "[encoded data removed]",
                        "text/plain": [
                            "<Figure size 360x360 with 1 Axes>"
                        ]
                    },
                    "metadata": {
                        "needs_background": "light"
                    },
                    "output_type": "display_data"
                }
            ],
            "source": [
                "# 初始状态的对角点\n",
                "A = (150, 200) # (x,y)\n",
                "B = (300, 450)\n",
                "rotation_angle = 45  # 30度\n",
                "\n",
                "image = np.zeros((600, 600, 3), dtype=np.uint8)\n",
                "image=show_rotated_rectangle(image,A, B, rotation_angle)\n",
                "\n",
                "show_images([image])"
            ]
        },
        {
            "cell_type": "code",
            "execution_count": 8,
            "metadata": {},
            "outputs": [
                {
                    "name": "stdout",
                    "output_type": "stream",
                    "text": [
                        "[[100, 100], [100, 200]]\n"
                    ]
                }
            ],
            "source": [
                "def sort_vertices(allvertices):\n",
                "    sorted_points = sorted(allvertices, key=lambda point: (point[0], point[1]))\n",
                "    print(sorted_points)\n",
                "\n",
                "\n",
                "allvertices=[\n",
                "        [100,100],\n",
                "        [100,200]\n",
                "]\n",
                "sort_vertices(allvertices)"
            ]
        },
        {
            "cell_type": "code",
            "execution_count": 9,
            "metadata": {},
            "outputs": [
                {
                    "name": "stdout",
                    "output_type": "stream",
                    "text": [
                        "[[100, 100], [100, 200], [200, 100], [200, 200]]\n"
                    ]
                }
            ],
            "source": [
                "allvertices=[\n",
                "        [100,100],\n",
                "        [100,200],\n",
                "        [200,100],\n",
                "        [200,200]\n",
                "]\n",
                "sort_vertices(allvertices)"
            ]
        },
        {
            "cell_type": "code",
            "execution_count": 10,
            "metadata": {},
            "outputs": [
                {
                    "name": "stdout",
                    "output_type": "stream",
                    "text": [
                        "[[100, 100], [110, 200]]\n"
                    ]
                }
            ],
            "source": [
                "allvertices=[\n",
                "        [100,100],\n",
                "        [110,200]\n",
                "]\n",
                "sort_vertices(allvertices)"
            ]
        },
        {
            "cell_type": "code",
            "execution_count": 11,
            "metadata": {},
            "outputs": [
                {
                    "name": "stdout",
                    "output_type": "stream",
                    "text": [
                        "[[100, 200], [300, 100]]\n"
                    ]
                }
            ],
            "source": [
                "allvertices=[\n",
                "        [300,100],\n",
                "        [100,200]\n",
                "]\n",
                "sort_vertices(allvertices)"
            ]
        },
        {
            "cell_type": "code",
            "execution_count": 12,
            "metadata": {},
            "outputs": [
                {
                    "name": "stdout",
                    "output_type": "stream",
                    "text": [
                        "[[100, 200], [300, 100], [400, 150]]\n"
                    ]
                }
            ],
            "source": [
                "allvertices=[\n",
                "        [300,100],\n",
                "        [100,200],\n",
                "        [400,150]\n",
                "]\n",
                "sort_vertices(allvertices)"
            ]
        },
        {
            "cell_type": "code",
            "execution_count": 13,
            "metadata": {},
            "outputs": [
                {
                    "name": "stdout",
                    "output_type": "stream",
                    "text": [
                        "[[100, 200], [300, 100], [300, 300], [400, 150]]\n"
                    ]
                }
            ],
            "source": [
                "allvertices=[\n",
                "        [300,100],\n",
                "        [100,200],\n",
                "        [400,150],\n",
                "        [300,300]\n",
                "]\n",
                "sort_vertices(allvertices)"
            ]
        },
        {
            "cell_type": "markdown",
            "metadata": {},
            "source": [
                "# 旋转矩形，计算4个点"
            ]
        },
        {
            "cell_type": "code",
            "execution_count": 14,
            "metadata": {},
            "outputs": [],
            "source": [
                "import math\n",
                "\n",
                "\n",
                "def get_center(points):\n",
                "    \"\"\"计算几何中心\"\"\"\n",
                "    x_sum = 0\n",
                "    y_sum = 0\n",
                "    for point in points:\n",
                "        x_sum += point[0]\n",
                "        y_sum += point[1]\n",
                "    return x_sum / len(points), y_sum / len(points)\n",
                "\n",
                "def sort_points(points):\n",
                "    \"\"\"按顺时针排序点\"\"\"\n",
                "    # 计算几何中心\n",
                "    center=get_center(points)\n",
                "\n",
                "    # 计算每个点与几何中心的角度值\n",
                "    angles = []\n",
                "    for point in points:\n",
                "        dx = point[0] - center[0]\n",
                "        dy = point[1] - center[1]\n",
                "        angle = math.atan2(dy, dx)\n",
                "        angles.append(angle)\n",
                "    # 根据角度值进行排序\n",
                "    sorted_points = [point for _, point in sorted(zip(angles, points))]\n",
                "    return sorted_points\n",
                "\n",
                "def rotate_point(x, y, theta):\n",
                "    \"\"\"旋转一个点\"\"\"\n",
                "    cos_theta = math.cos(math.radians(theta))\n",
                "    sin_theta = math.sin(math.radians(theta))\n",
                "    x_prime = x * cos_theta - y * sin_theta\n",
                "    y_prime = x * sin_theta + y * cos_theta\n",
                "    return x_prime, y_prime\n",
                "\n",
                "def get_rectangle_points(center_x, center_y, width, height, angle):\n",
                "    \"\"\"获取矩形四个点的坐标\"\"\"\n",
                "    # 计算未旋转前矩形四个点的坐标\n",
                "    half_width = width / 2\n",
                "    half_height = height / 2\n",
                "    points = [\n",
                "        (center_x - half_width, center_y + half_height),\n",
                "        (center_x + half_width, center_y + half_height),\n",
                "        (center_x - half_width, center_y - half_height),\n",
                "        (center_x + half_width, center_y - half_height)\n",
                "    ]\n",
                "    # 对每个点进行旋转变换\n",
                "    rotated_points = []\n",
                "    for point in points:\n",
                "        x, y = point\n",
                "        x_prime, y_prime = rotate_point(x - center_x, y - center_y, angle)\n",
                "        rotated_points.append((x_prime + center_x, y_prime + center_y))\n",
                "    return rotated_points\n",
                "\n",
                "def draw_rec(img,points,color):\n",
                "    pts1 = np.array(sort_points(points), np.int32)\n",
                "    pts1 = pts1.reshape((-1, 1, 2))\n",
                "    cv2.polylines(img, [pts1], isClosed=True, color=color, thickness=2)\n",
                "    return img"
            ]
        },
        {
            "cell_type": "code",
            "execution_count": 15,
            "metadata": {},
            "outputs": [
                {
                    "name": "stdout",
                    "output_type": "stream",
                    "text": [
                        "[[200 275]\n",
                        " [400 275]\n",
                        " [400 325]\n",
                        " [200 325]]\n",
                        "------------------------------\n",
                        "[[200 271]\n",
                        " [225 228]\n",
                        " [399 328]\n",
                        " [374 371]]\n",
                        "------------------------------\n",
                        "[[275 200]\n",
                        " [325 200]\n",
                        " [325 400]\n",
                        " [275 400]]\n",
                        "------------------------------\n",
                        "[[328 200]\n",
                        " [371 225]\n",
                        " [271 399]\n",
                        " [228 374]]\n",
                        "------------------------------\n",
                        "[[385 242]\n",
                        " [402 289]\n",
                        " [214 357]\n",
                        " [197 310]]\n",
                        "------------------------------\n"
                    ]
                },
                {
                    "data": {
                        "image/png": "[encoded data removed]",
                        "text/plain": [
                            "<Figure size 1080x720 with 5 Axes>"
                        ]
                    },
                    "metadata": {
                        "needs_background": "light"
                    },
                    "output_type": "display_data"
                }
            ],
            "source": [
                "import cv2\n",
                "import numpy as np\n",
                "import random\n",
                "\n",
                "# 示例用法\n",
                "center_x = 300\n",
                "center_y = 300\n",
                "width = 200\n",
                "height = 50\n",
                "# angle = 0\n",
                "\n",
                "img = np.zeros((600, 600, 3), dtype=np.uint8)\n",
                "allimg=[img]\n",
                "colors=[(random.randint(0,255),random.randint(0,255),random.randint(0,255)) for i in range(100)]\n",
                "for i,angle in enumerate([0,30,90,120,160]):\n",
                "    points = get_rectangle_points(center_x, center_y, width, height, angle)\n",
                "    print(np.int0(sort_points(points)))\n",
                "\n",
                "    img1=draw_rec(allimg[-1].copy(),points,colors[i])\n",
                "    allimg.append(img1)\n",
                "    print('------'*5)\n",
                "\n",
                "show_images(allimg[1:])"
            ]
        },
        {
            "cell_type": "markdown",
            "metadata": {},
            "source": [
                "# 已知两个点+鼠标位置，计算这个旋转矩形的四个点"
            ]
        },
        {
            "cell_type": "code",
            "execution_count": 16,
            "metadata": {},
            "outputs": [],
            "source": [
                "def perpendicular_line(A, B):\n",
                "    # 计算向量AB的垂直向量\n",
                "    if A[0] == B[0]:\n",
                "        vertical_vector = [1, 0]\n",
                "    else:\n",
                "        vertical_vector = [-(B[1] - A[1]) / (B[0] - A[0]), 1]\n",
                "\n",
                "    return vertical_vector\n",
                "\n",
                "def projection_point_on_perpendicular_line(A, B, C):\n",
                "    # 计算垂直向量\n",
                "    vertical_vector = perpendicular_line(A, B)\n",
                "\n",
                "    # 计算向量AC\n",
                "    AC = [C[0] - A[0], C[1] - A[1]]\n",
                "\n",
                "    # 计算投影点的比例系数\n",
                "    ratio = (vertical_vector[0] * AC[0] + vertical_vector[1] * AC[1]) / (vertical_vector[0] ** 2 + vertical_vector[1] ** 2)\n",
                "\n",
                "    # 计算投影点的坐标\n",
                "    projection_x = A[0] + vertical_vector[0] * ratio\n",
                "    projection_y = A[1] + vertical_vector[1] * ratio\n",
                "\n",
                "    return [projection_x, projection_y]\n",
                "\n",
                "def find_fourth_point(A, B, C):\n",
                "    # 计算向量AB和向量BC\n",
                "    AB = [B[0] - A[0], B[1] - A[1]]\n",
                "    BC = [C[0] - B[0], C[1] - B[1]]\n",
                "\n",
                "    # 计算向量AB和向量BC的夹角\n",
                "    angle = math.atan2(AB[1], AB[0]) - math.atan2(BC[1], BC[0])\n",
                "\n",
                "    # 计算第四个点的坐标\n",
                "    D = [B[0] + BC[0] * math.cos(angle) - BC[1] * math.sin(angle), B[1] + BC[0] * math.sin(angle) + BC[1] * math.cos(angle)]\n",
                "\n",
                "    return D"
            ]
        },
        {
            "cell_type": "code",
            "execution_count": 17,
            "metadata": {},
            "outputs": [
                {
                    "name": "stdout",
                    "output_type": "stream",
                    "text": [
                        "[106.33627799874398, 362.99920452166634]\n"
                    ]
                },
                {
                    "data": {
                        "image/png": "[encoded data removed]",
                        "text/plain": [
                            "<Figure size 360x360 with 1 Axes>"
                        ]
                    },
                    "metadata": {
                        "needs_background": "light"
                    },
                    "output_type": "display_data"
                }
            ],
            "source": [
                "import cv2\n",
                "import random\n",
                "\n",
                "img = np.zeros((600, 600, 3), dtype=np.uint8)\n",
                "\n",
                "A = [200, 200]\n",
                "B = [468, 354]\n",
                "C = [random.randint(100,300), random.randint(100,500)]\n",
                "\n",
                "new_C = projection_point_on_perpendicular_line(A, B, C)\n",
                "print(new_C)\n",
                "\n",
                "pts1 = np.array([A,B,new_C], np.int32)\n",
                "pts1 = pts1.reshape((-1, 1, 2))\n",
                "cv2.circle(img, A, 5, (255,0,0), -1)\n",
                "cv2.circle(img, B, 5, (0,255,0), -1)\n",
                "cv2.circle(img, C, 5, (0,0,255), -1)\n",
                "cv2.circle(img, np.int0(new_C), 5, (0,255,255), -1)\n",
                "cv2.polylines(img, [pts1], isClosed=True, color=(255,0,0), thickness=2)\n",
                "show_images([img])\n",
                "\n",
                "\n",
                "D=find_fourth_point(A,B,new_C)"
            ]
        },
        {
            "cell_type": "code",
            "execution_count": 18,
            "metadata": {},
            "outputs": [],
            "source": [
                "def projection_point(A, B, C):\n",
                "    # 计算向量AB和向量AC\n",
                "    AB = [B[0] - A[0], B[1] - A[1]]\n",
                "    AC = [C[0] - A[0], C[1] - A[1]]\n",
                "\n",
                "    # 计算向量AB的模长平方\n",
                "    length_squared = AB[0] ** 2 + AB[1] ** 2\n",
                "\n",
                "    # 计算向量AB与向量AC的点积\n",
                "    dot_product = AB[0] * AC[0] + AB[1] * AC[1]\n",
                "\n",
                "    # 计算投影点的比例系数\n",
                "    ratio = dot_product / length_squared\n",
                "\n",
                "    # 计算投影点的坐标\n",
                "    projection_x = A[0] + AB[0] * ratio\n",
                "    projection_y = A[1] + AB[1] * ratio\n",
                "\n",
                "    return [projection_x, projection_y]\n",
                "\n",
                "# 已知定点A、B及动点C，求出这三点组合成的旋转矩形\n",
                "def cal_rect(A:tuple,B:tuple,C:tuple):\n",
                "    D=(C[0]-A[0]+B[0],C[1]-A[1]+B[1])\n",
                "    return D      "
            ]
        },
        {
            "cell_type": "code",
            "execution_count": 19,
            "metadata": {},
            "outputs": [
                {
                    "data": {
                        "image/png": "[encoded data removed]",
                        "text/plain": [
                            "<Figure size 360x360 with 1 Axes>"
                        ]
                    },
                    "metadata": {
                        "needs_background": "light"
                    },
                    "output_type": "display_data"
                }
            ],
            "source": [
                "img = np.zeros((600, 600, 3), dtype=np.uint8)\n",
                "cv2.circle(img, A, 10, (255,0,0), -1) # 红色\n",
                "cv2.circle(img, B, 10, (0,255,0), -1) # 绿色\n",
                "cv2.circle(img, C, 10, (0,0,255), -1) # 蓝色\n",
                "cv2.circle(img, np.int0(new_C), 5, (0,255,255), -1)\n",
                "\n",
                "D=cal_rect(A,B,new_C)\n",
                "cv2.circle(img, np.int0(D), 5, (255,0,255), -1)\n",
                "\n",
                "pts1 = np.array([A,B,D,new_C], np.int32)\n",
                "pts1 = pts1.reshape((-1, 1, 2))\n",
                "cv2.polylines(img, [pts1], isClosed=True, color=(128,0,255), thickness=2)\n",
                "show_images([img])"
            ]
        }
    ],
    "metadata": {
        "kernelspec": {
            "display_name": "py37",
            "language": "python",
            "name": "python3"
        },
        "language_info": {
            "codemirror_mode": {
                "name": "ipython",
                "version": 3
            },
            "file_extension": ".py",
            "mimetype": "text/x-python",
            "name": "python",
            "nbconvert_exporter": "python",
            "pygments_lexer": "ipython3",
            "version": "3.7.9"
        }
    },
    "nbformat": 4,
    "nbformat_minor": 2
}
