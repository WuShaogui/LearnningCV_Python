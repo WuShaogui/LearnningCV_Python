{
    "cells": [
        {
            "cell_type": "markdown",
            "metadata": {},
            "source": [
                "本脚本是开发旋转目标检测时，用于验证旋转目标与四个点关系\n",
                "\n",
                "主要包括以下功能：\n",
                "1. 移动旋转目标框的一个点时，如何计算两个相邻点，使得保持矩形形状\n",
                "2. 绕中心旋转目标框时，四个点如何计算\n",
                "3. 已知两个点+鼠标位置，计算这个旋转矩形的四个点"
            ]
        },
        {
            "cell_type": "code",
            "execution_count": 1,
            "metadata": {},
            "outputs": [],
            "source": [
                "# read code tools\n",
                "# share in https://gist.github.com/WuShaogui/19c690bde2a0fe70b061d50e20129531\n",
                "import sys\n",
                "import os.path as osp\n",
                "sys.path.append('/home/wushaogui/ReadCode/')\n",
                "from my_read_code_tools import *"
            ]
        },
        {
            "cell_type": "markdown",
            "metadata": {},
            "source": [
                "# 移动某个点，计算另外两个动点"
            ]
        },
        {
            "cell_type": "code",
            "execution_count": 2,
            "metadata": {},
            "outputs": [
                {
                    "name": "stdout",
                    "output_type": "stream",
                    "text": [
                        "[[[200 200]]\n",
                        "\n",
                        " [[468 354]]\n",
                        "\n",
                        " [[500 300]]\n",
                        "\n",
                        " [[231 145]]]\n",
                        "[[[200 200]]\n",
                        "\n",
                        " [[393 311]]\n",
                        "\n",
                        " [[400 300]]\n",
                        "\n",
                        " [[206 188]]]\n"
                    ]
                },
                {
                    "data": {
                        "image/png": "[encoded data removed]",
                        "text/plain": [
                            "<Figure size 720x360 with 2 Axes>"
                        ]
                    },
                    "metadata": {
                        "needs_background": "light"
                    },
                    "output_type": "display_data"
                }
            ],
            "source": [
                "from math import tan,pi\n",
                "import numpy as np\n",
                "import cv2\n",
                "\n",
                "# 根据对角点以及角度，计算剩余的2个点\n",
                "def calculate_remaining_vertices_of_rotated_rectangle(A, B, rotation_angle):\n",
                "\n",
                "    if rotation_angle==0 or rotation_angle==90:\n",
                "        x1,y1=A[0],B[1]\n",
                "        x2,y2=B[0],A[1]\n",
                "    else:\n",
                "        q = rotation_angle*pi/180  # 另一边与x轴的角度\n",
                "        p = pi/2-q  # 旋转角度\n",
                "\n",
                "        # 计算剩下的两个点\n",
                "        x1=(tan(p)*B[0]+tan(q)*A[0]+B[1]-A[1])/((tan(p)+tan(q)))\n",
                "        y1=B[1]+tan(p)*(B[0]-x1)\n",
                "\n",
                "        x2=(A[1]-B[1]+tan(p)*A[0]+tan(q)*B[0])/(tan(p)+tan(q))\n",
                "        y2=B[1]+tan(q)*(x2-B[0])\n",
                "\n",
                "    return (x1,y1),(x2,y2)\n",
                "\n",
                "def show_rotated_rectangle(img,A, B, rotation_angle,color=(255, 0, 0)):\n",
                "    remaining_vertices=calculate_remaining_vertices_of_rotated_rectangle(A,B,rotation_angle)\n",
                "    pts1 = np.array([A,remaining_vertices[0],B,remaining_vertices[1]], np.int32)\n",
                "    pts1 = pts1.reshape((-1, 1, 2))\n",
                "    print(pts1)\n",
                "    cv2.polylines(img, [pts1], isClosed=True, color=color, thickness=2)\n",
                "\n",
                "    return img\n",
                "\n",
                "\n",
                "# 初始状态的对角点\n",
                "A = (200, 200) # (x,y)\n",
                "B = (500, 300)\n",
                "rotation_angle = 30  # 30度\n",
                "image = np.zeros((600, 600, 3), dtype=np.uint8)\n",
                "image1=show_rotated_rectangle(image.copy(),A, B, rotation_angle)\n",
                "\n",
                "A = (200, 200)\n",
                "B = (400, 300)\n",
                "image2=show_rotated_rectangle(image1.copy(),A, B, rotation_angle,color=(0,255,0))\n",
                "\n",
                "show_images([image1,image2])"
            ]
        },
        {
            "cell_type": "code",
            "execution_count": 3,
            "metadata": {},
            "outputs": [
                {
                    "name": "stdout",
                    "output_type": "stream",
                    "text": [
                        "[[[200 200]]\n",
                        "\n",
                        " [[468 354]]\n",
                        "\n",
                        " [[500 300]]\n",
                        "\n",
                        " [[231 145]]]\n",
                        "[[[300 250]]\n",
                        "\n",
                        " [[471 349]]\n",
                        "\n",
                        " [[500 300]]\n",
                        "\n",
                        " [[328 200]]]\n"
                    ]
                },
                {
                    "data": {
                        "image/png": "[encoded data removed]",
                        "text/plain": [
                            "<Figure size 720x360 with 2 Axes>"
                        ]
                    },
                    "metadata": {
                        "needs_background": "light"
                    },
                    "output_type": "display_data"
                }
            ],
            "source": [
                "# 初始状态的对角点\n",
                "A = (200, 200) # (x,y)\n",
                "B = (500, 300)\n",
                "rotation_angle = 30  # 30度\n",
                "\n",
                "image = np.zeros((600, 600, 3), dtype=np.uint8)\n",
                "image1=show_rotated_rectangle(image,A, B, rotation_angle)\n",
                "\n",
                "A = (300, 250)\n",
                "B = (500, 300)\n",
                "image2=show_rotated_rectangle(image1,A, B, rotation_angle,color=(0,255,0))\n",
                "\n",
                "show_images([image1,image2])"
            ]
        },
        {
            "cell_type": "code",
            "execution_count": 4,
            "metadata": {},
            "outputs": [
                {
                    "name": "stdout",
                    "output_type": "stream",
                    "text": [
                        "[[[200 200]]\n",
                        "\n",
                        " [[381  95]]\n",
                        "\n",
                        " [[500 300]]\n",
                        "\n",
                        " [[318 404]]]\n",
                        "[[[300 250]]\n",
                        "\n",
                        " [[428 175]]\n",
                        "\n",
                        " [[500 300]]\n",
                        "\n",
                        " [[371 374]]]\n"
                    ]
                },
                {
                    "data": {
                        "image/png": "[encoded data removed]",
                        "text/plain": [
                            "<Figure size 360x360 with 1 Axes>"
                        ]
                    },
                    "metadata": {
                        "needs_background": "light"
                    },
                    "output_type": "display_data"
                }
            ],
            "source": [
                "# 初始状态的对角点\n",
                "A = (200, 200) # (x,y)\n",
                "B = (500, 300)\n",
                "rotation_angle = -30  # 30度\n",
                "\n",
                "image = np.zeros((600, 600, 3), dtype=np.uint8)\n",
                "image1=show_rotated_rectangle(image,A, B, rotation_angle)\n",
                "\n",
                "A = (300, 250)\n",
                "B = (500, 300)\n",
                "image2=show_rotated_rectangle(image1,A, B, rotation_angle,color=(0,255,0))\n",
                "\n",
                "show_images([image2])"
            ]
        },
        {
            "cell_type": "code",
            "execution_count": 5,
            "metadata": {},
            "outputs": [
                {
                    "name": "stdout",
                    "output_type": "stream",
                    "text": [
                        "[[[200 200]]\n",
                        "\n",
                        " [[318 404]]\n",
                        "\n",
                        " [[500 300]]\n",
                        "\n",
                        " [[381  95]]]\n",
                        "[[[300 250]]\n",
                        "\n",
                        " [[371 374]]\n",
                        "\n",
                        " [[500 300]]\n",
                        "\n",
                        " [[428 175]]]\n"
                    ]
                },
                {
                    "data": {
                        "image/png": "[encoded data removed]",
                        "text/plain": [
                            "<Figure size 360x360 with 1 Axes>"
                        ]
                    },
                    "metadata": {
                        "needs_background": "light"
                    },
                    "output_type": "display_data"
                }
            ],
            "source": [
                "# 初始状态的对角点\n",
                "A = (200, 200) # (x,y)\n",
                "B = (500, 300)\n",
                "rotation_angle = 60  # 30度\n",
                "\n",
                "image = np.zeros((600, 600, 3), dtype=np.uint8)\n",
                "image1=show_rotated_rectangle(image,A, B, rotation_angle)\n",
                "\n",
                "A = (300, 250)\n",
                "B = (500, 300)\n",
                "image2=show_rotated_rectangle(image1,A, B, rotation_angle,color=(0,255,0))\n",
                "\n",
                "show_images([image2])"
            ]
        },
        {
            "cell_type": "code",
            "execution_count": 6,
            "metadata": {},
            "outputs": [
                {
                    "name": "stdout",
                    "output_type": "stream",
                    "text": [
                        "[[[200 200]]\n",
                        "\n",
                        " [[201 305]]\n",
                        "\n",
                        " [[500 300]]\n",
                        "\n",
                        " [[498 194]]]\n",
                        "[[[300 250]]\n",
                        "\n",
                        " [[300 303]]\n",
                        "\n",
                        " [[500 300]]\n",
                        "\n",
                        " [[499 246]]]\n"
                    ]
                },
                {
                    "data": {
                        "image/png": "[encoded data removed]",
                        "text/plain": [
                            "<Figure size 360x360 with 1 Axes>"
                        ]
                    },
                    "metadata": {
                        "needs_background": "light"
                    },
                    "output_type": "display_data"
                }
            ],
            "source": [
                "# 初始状态的对角点\n",
                "A = (200, 200) # (x,y)\n",
                "B = (500, 300)\n",
                "rotation_angle = 89  # 30度\n",
                "\n",
                "image = np.zeros((600, 600, 3), dtype=np.uint8)\n",
                "image1=show_rotated_rectangle(image,A, B, rotation_angle)\n",
                "\n",
                "A = (300, 250)\n",
                "B = (500, 300)\n",
                "image2=show_rotated_rectangle(image1,A, B, rotation_angle,color=(0,255,0))\n",
                "\n",
                "show_images([image2])"
            ]
        },
        {
            "cell_type": "code",
            "execution_count": 7,
            "metadata": {},
            "outputs": [
                {
                    "name": "stdout",
                    "output_type": "stream",
                    "text": [
                        "[[[150 200]]\n",
                        "\n",
                        " [[350 400]]\n",
                        "\n",
                        " [[300 450]]\n",
                        "\n",
                        " [[ 99 250]]]\n"
                    ]
                },
                {
                    "data": {
                        "image/png": "[encoded data removed]",
                        "text/plain": [
                            "<Figure size 360x360 with 1 Axes>"
                        ]
                    },
                    "metadata": {
                        "needs_background": "light"
                    },
                    "output_type": "display_data"
                }
            ],
            "source": [
                "# 初始状态的对角点\n",
                "A = (150, 200) # (x,y)\n",
                "B = (300, 450)\n",
                "rotation_angle = 45  # 30度\n",
                "\n",
                "image = np.zeros((600, 600, 3), dtype=np.uint8)\n",
                "image=show_rotated_rectangle(image,A, B, rotation_angle)\n",
                "\n",
                "show_images([image])"
            ]
        },
        {
            "cell_type": "code",
            "execution_count": 8,
            "metadata": {},
            "outputs": [
                {
                    "name": "stdout",
                    "output_type": "stream",
                    "text": [
                        "[[100, 100], [100, 200]]\n"
                    ]
                }
            ],
            "source": [
                "def sort_vertices(allvertices):\n",
                "    sorted_points = sorted(allvertices, key=lambda point: (point[0], point[1]))\n",
                "    print(sorted_points)\n",
                "\n",
                "\n",
                "allvertices=[\n",
                "        [100,100],\n",
                "        [100,200]\n",
                "]\n",
                "sort_vertices(allvertices)"
            ]
        },
        {
            "cell_type": "code",
            "execution_count": 9,
            "metadata": {},
            "outputs": [
                {
                    "name": "stdout",
                    "output_type": "stream",
                    "text": [
                        "[[100, 100], [100, 200], [200, 100], [200, 200]]\n"
                    ]
                }
            ],
            "source": [
                "allvertices=[\n",
                "        [100,100],\n",
                "        [100,200],\n",
                "        [200,100],\n",
                "        [200,200]\n",
                "]\n",
                "sort_vertices(allvertices)"
            ]
        },
        {
            "cell_type": "code",
            "execution_count": 10,
            "metadata": {},
            "outputs": [
                {
                    "name": "stdout",
                    "output_type": "stream",
                    "text": [
                        "[[100, 100], [110, 200]]\n"
                    ]
                }
            ],
            "source": [
                "allvertices=[\n",
                "        [100,100],\n",
                "        [110,200]\n",
                "]\n",
                "sort_vertices(allvertices)"
            ]
        },
        {
            "cell_type": "code",
            "execution_count": 11,
            "metadata": {},
            "outputs": [
                {
                    "name": "stdout",
                    "output_type": "stream",
                    "text": [
                        "[[100, 200], [300, 100]]\n"
                    ]
                }
            ],
            "source": [
                "allvertices=[\n",
                "        [300,100],\n",
                "        [100,200]\n",
                "]\n",
                "sort_vertices(allvertices)"
            ]
        },
        {
            "cell_type": "code",
            "execution_count": 12,
            "metadata": {},
            "outputs": [
                {
                    "name": "stdout",
                    "output_type": "stream",
                    "text": [
                        "[[100, 200], [300, 100], [400, 150]]\n"
                    ]
                }
            ],
            "source": [
                "allvertices=[\n",
                "        [300,100],\n",
                "        [100,200],\n",
                "        [400,150]\n",
                "]\n",
                "sort_vertices(allvertices)"
            ]
        },
        {
            "cell_type": "code",
            "execution_count": 13,
            "metadata": {},
            "outputs": [
                {
                    "name": "stdout",
                    "output_type": "stream",
                    "text": [
                        "[[100, 200], [300, 100], [300, 300], [400, 150]]\n"
                    ]
                }
            ],
            "source": [
                "allvertices=[\n",
                "        [300,100],\n",
                "        [100,200],\n",
                "        [400,150],\n",
                "        [300,300]\n",
                "]\n",
                "sort_vertices(allvertices)"
            ]
        },
        {
            "cell_type": "markdown",
            "metadata": {},
            "source": [
                "# 旋转矩形，计算4个点"
            ]
        },
        {
            "cell_type": "code",
            "execution_count": 14,
            "metadata": {},
            "outputs": [],
            "source": [
                "import math\n",
                "\n",
                "\n",
                "def get_center(points):\n",
                "    \"\"\"计算几何中心\"\"\"\n",
                "    x_sum = 0\n",
                "    y_sum = 0\n",
                "    for point in points:\n",
                "        x_sum += point[0]\n",
                "        y_sum += point[1]\n",
                "    return x_sum / len(points), y_sum / len(points)\n",
                "\n",
                "def sort_points(points):\n",
                "    \"\"\"按顺时针排序点\"\"\"\n",
                "    # 计算几何中心\n",
                "    center=get_center(points)\n",
                "\n",
                "    # 计算每个点与几何中心的角度值\n",
                "    angles = []\n",
                "    for point in points:\n",
                "        dx = point[0] - center[0]\n",
                "        dy = point[1] - center[1]\n",
                "        angle = math.atan2(dy, dx)\n",
                "        angles.append(angle)\n",
                "    # 根据角度值进行排序\n",
                "    sorted_points = [point for _, point in sorted(zip(angles, points))]\n",
                "    return sorted_points\n",
                "\n",
                "def rotate_point(x, y, theta):\n",
                "    \"\"\"旋转一个点\"\"\"\n",
                "    cos_theta = math.cos(math.radians(theta))\n",
                "    sin_theta = math.sin(math.radians(theta))\n",
                "    x_prime = x * cos_theta - y * sin_theta\n",
                "    y_prime = x * sin_theta + y * cos_theta\n",
                "    return x_prime, y_prime\n",
                "\n",
                "def get_rectangle_points(center_x, center_y, width, height, angle):\n",
                "    \"\"\"获取矩形四个点的坐标\"\"\"\n",
                "    # 计算未旋转前矩形四个点的坐标\n",
                "    half_width = width / 2\n",
                "    half_height = height / 2\n",
                "    points = [\n",
                "        (center_x - half_width, center_y + half_height),\n",
                "        (center_x + half_width, center_y + half_height),\n",
                "        (center_x - half_width, center_y - half_height),\n",
                "        (center_x + half_width, center_y - half_height)\n",
                "    ]\n",
                "    # 对每个点进行旋转变换\n",
                "    rotated_points = []\n",
                "    for point in points:\n",
                "        x, y = point\n",
                "        x_prime, y_prime = rotate_point(x - center_x, y - center_y, angle)\n",
                "        rotated_points.append((x_prime + center_x, y_prime + center_y))\n",
                "    return rotated_points\n",
                "\n",
                "def draw_rec(img,points,color):\n",
                "    pts1 = np.array(sort_points(points), np.int32)\n",
                "    pts1 = pts1.reshape((-1, 1, 2))\n",
                "    cv2.polylines(img, [pts1], isClosed=True, color=color, thickness=2)\n",
                "    return img"
            ]
        },
        {
            "cell_type": "code",
            "execution_count": 15,
            "metadata": {},
            "outputs": [
                {
                    "name": "stdout",
                    "output_type": "stream",
                    "text": [
                        "[[200 275]\n",
                        " [400 275]\n",
                        " [400 325]\n",
                        " [200 325]]\n",
                        "------------------------------\n",
                        "[[200 271]\n",
                        " [225 228]\n",
                        " [399 328]\n",
                        " [374 371]]\n",
                        "------------------------------\n",
                        "[[275 200]\n",
                        " [325 200]\n",
                        " [325 400]\n",
                        " [275 400]]\n",
                        "------------------------------\n",
                        "[[328 200]\n",
                        " [371 225]\n",
                        " [271 399]\n",
                        " [228 374]]\n",
                        "------------------------------\n",
                        "[[385 242]\n",
                        " [402 289]\n",
                        " [214 357]\n",
                        " [197 310]]\n",
                        "------------------------------\n"
                    ]
                },
                {
                    "data": {
                        "image/png": "[encoded data removed]",
                        "text/plain": [
                            "<Figure size 1080x720 with 5 Axes>"
                        ]
                    },
                    "metadata": {
                        "needs_background": "light"
                    },
                    "output_type": "display_data"
                }
            ],
            "source": [
                "import cv2\n",
                "import numpy as np\n",
                "import random\n",
                "\n",
                "# 示例用法\n",
                "center_x = 300\n",
                "center_y = 300\n",
                "width = 200\n",
                "height = 50\n",
                "# angle = 0\n",
                "\n",
                "img = np.zeros((600, 600, 3), dtype=np.uint8)\n",
                "allimg=[img]\n",
                "colors=[(random.randint(0,255),random.randint(0,255),random.randint(0,255)) for i in range(100)]\n",
                "for i,angle in enumerate([0,30,90,120,160]):\n",
                "    points = get_rectangle_points(center_x, center_y, width, height, angle)\n",
                "    print(np.int0(sort_points(points)))\n",
                "\n",
                "    img1=draw_rec(allimg[-1].copy(),points,colors[i])\n",
                "    allimg.append(img1)\n",
                "    print('------'*5)\n",
                "\n",
                "show_images(allimg[1:])"
            ]
        },
        {
            "cell_type": "markdown",
            "metadata": {},
            "source": [
                "# 已知两个点+鼠标位置，计算这个旋转矩形的四个点"
            ]
        },
        {
            "cell_type": "code",
            "execution_count": 33,
            "metadata": {},
            "outputs": [],
            "source": [
                "def segments_intersect(segment1, segment2):\n",
                "    # 提取线段的端点\n",
                "    (x1, y1), (x2, y2) = segment1\n",
                "    (x3, y3), (x4, y4) = segment2\n",
                "    \n",
                "    # 检查线段的边界框是否相交\n",
                "    if (min(x1, x2) > max(x3, x4) or max(x1, x2) < min(x3, x4) or\n",
                "        min(y1, y2) > max(y3, y4) or max(y1, y2) < min(y3, y4)):\n",
                "        return False\n",
                "    \n",
                "    # 计算叉积\n",
                "    def cross_product(x1, y1, x2, y2):\n",
                "        return x1 * y2 - x2 * y1\n",
                "    \n",
                "    def check_orientation(x1, y1, x2, y2, x3, y3):\n",
                "        return cross_product(x2 - x1, y2 - y1, x3 - x1, y3 - y1)\n",
                "    \n",
                "    orientation1 = check_orientation(x1, y1, x2, y2, x3, y3)\n",
                "    orientation2 = check_orientation(x1, y1, x2, y2, x4, y4)\n",
                "    orientation3 = check_orientation(x3, y3, x4, y4, x1, y1)\n",
                "    orientation4 = check_orientation(x3, y3, x4, y4, x2, y2)\n",
                "    \n",
                "    # 如果端点的方向不同，则线段相交\n",
                "    if (orientation1 * orientation2 <= 0) and (orientation3 * orientation4 <= 0):\n",
                "        return True\n",
                "    \n",
                "    return False\n",
                "\n",
                "def GetSegmentIntersection(A,B,width,height):\n",
                "    # 判断投影点和A连续与哪个边界相交\n",
                "    top=[[0,0],[width,0]]\n",
                "    bottom=[[0,height],[width,height]]\n",
                "    left=[[0,0],[0,height]]\n",
                "    right=[[width,0],[width,height]]\n",
                "\n",
                "    nowSegment=[A,B]\n",
                "    IntersectionPoint=[-1,-1]\n",
                "    if segments_intersect(nowSegment,top) or segments_intersect(nowSegment,bottom):\n",
                "        if A[1]>height:IntersectionPoint[1]=height\n",
                "        if A[1]<0:IntersectionPoint[1]=0\n",
                "        if A[0]!=B[0]:\n",
                "            # 计算斜率\n",
                "            slope = (A[1]-B[1]) / (A[0]-B[0])\n",
                "\n",
                "            # 计算截距\n",
                "            intercept =B[1] - slope * B[0]\n",
                "\n",
                "            IntersectionPoint[0]=(IntersectionPoint[1]-intercept)/slope\n",
                "        else:\n",
                "            # 如果斜率不存在（即直线垂直于 x 轴）\n",
                "            IntersectionPoint[0]=B[0]\n",
                "        \n",
                "        return IntersectionPoint\n",
                "\n",
                "    if segments_intersect(nowSegment,left) or segments_intersect(nowSegment,right):\n",
                "        if A[0]>width:IntersectionPoint[0]=width\n",
                "        if A[0]<0:IntersectionPoint[0]=0\n",
                "        if A[0]!=B[0]:\n",
                "            # 计算斜率\n",
                "            slope = (A[1] - B[1]) / (A[0] - B[0])\n",
                "\n",
                "            # 计算截距\n",
                "            intercept =B[1] - slope * B[0]\n",
                "\n",
                "            IntersectionPoint[1]=slope*IntersectionPoint[0]+intercept\n",
                "        else:\n",
                "            # 如果斜率不存在（即直线垂直于 x 轴）\n",
                "            IntersectionPoint[1]=B[1]\n",
                "        \n",
                "        return IntersectionPoint\n",
                "\n",
                "\n",
                "def perpendicular_line(A, B):\n",
                "    # 计算向量AB的垂直向量\n",
                "    if A[0] == B[0]:\n",
                "        vertical_vector = [1, 0]\n",
                "    else:\n",
                "        vertical_vector = [-(B[1] - A[1]) / (B[0] - A[0]), 1]\n",
                "\n",
                "    return vertical_vector\n",
                "\n",
                "def find_fourth_point(A, B, C):\n",
                "    CA = [C[0] - A[0], C[1] - A[1]]\n",
                "    D=[B[0]+CA[0],B[1]+CA[1]]\n",
                "    return D\n",
                "\n",
                "def projection_point_on_perpendicular_line(A, B, C,width=300,height=300):\n",
                "    # 计算垂直向量\n",
                "    vertical_vector = perpendicular_line(A, B)\n",
                "\n",
                "    # 计算向量AC\n",
                "    AC = [C[0] - A[0], C[1] - A[1]]\n",
                "\n",
                "    # 计算投影点的比例系数\n",
                "    ratio = (vertical_vector[0] * AC[0] + vertical_vector[1] * AC[1]) / (vertical_vector[0] ** 2 + vertical_vector[1] ** 2)\n",
                "\n",
                "    # 计算投影点的坐标\n",
                "    projection_x = A[0] + vertical_vector[0] * ratio\n",
                "    projection_y = A[1] + vertical_vector[1] * ratio\n",
                "    print(f'未修正前：{projection_x},{projection_y}')\n",
                "\n",
                "    # 如果坐标超出边界，对坐标进行修正\n",
                "    vertices=[A,B]\n",
                "    projectionPoint=[projection_x,projection_y]\n",
                "    new_projectionPoint=projectionPoint\n",
                "    if (projection_x < 0 or projection_x > width or projection_y < 0 or projection_y > height):\n",
                "        new_projectionPoint = GetSegmentIntersection(projectionPoint, A, width, height)\n",
                "        # 基于3个定点，求第四个点\n",
                "        fourthPoint = find_fourth_point(A, B, new_projectionPoint)\n",
                "    else:\n",
                "        # 基于3个定点，求第四个点\n",
                "        fourthPoint = find_fourth_point(A, B, projectionPoint)\n",
                "\n",
                "    if (fourthPoint[0] < 0 or fourthPoint[0] > width or fourthPoint[1] < 0 or fourthPoint[1] > height):\n",
                "        new_fourthPoint = GetSegmentIntersection(fourthPoint, B, width, height)\n",
                "        # 基于3个定点，求第四个点\n",
                "        new_projectionPoint = find_fourth_point(B, A, new_fourthPoint)\n",
                "\n",
                "        vertices.append(new_fourthPoint)\n",
                "        vertices.append(new_projectionPoint)\n",
                "    else:\n",
                "        vertices.append(fourthPoint)\n",
                "        vertices.append(new_projectionPoint)\n",
                "\n",
                "    return vertices"
            ]
        },
        {
            "cell_type": "code",
            "execution_count": null,
            "metadata": {},
            "outputs": [],
            "source": []
        },
        {
            "cell_type": "code",
            "execution_count": 104,
            "metadata": {},
            "outputs": [
                {
                    "name": "stdout",
                    "output_type": "stream",
                    "text": [
                        "[413, 385]\n",
                        "未修正前：317.0830945558739,39.69914040114614\n",
                        "[[100, 100], [150, 280], [300, 238.33333333333331], [250, 58.333333333333314]]\n"
                    ]
                },
                {
                    "data": {
                        "image/png": "[encoded data removed]",
                        "text/plain": [
                            "<Figure size 360x360 with 1 Axes>"
                        ]
                    },
                    "metadata": {
                        "needs_background": "light"
                    },
                    "output_type": "display_data"
                }
            ],
            "source": [
                "import cv2\n",
                "import random\n",
                "\n",
                "img = np.zeros((600, 600, 3), dtype=np.uint8)\n",
                "\n",
                "A = [100, 100]\n",
                "B = [150, 280]\n",
                "# C = [random.randint(100,200), random.randint(300,500)]\n",
                "C = [random.randint(-300,500), random.randint(-300,500)]\n",
                "# C=[171, 475]\n",
                "print(C)\n",
                "\n",
                "width=300\n",
                "height=300\n",
                "vertices = projection_point_on_perpendicular_line(A, B, C,width,height)\n",
                "print(vertices)\n",
                "\n",
                "pts1 = np.array(vertices).reshape((-1, 1, 2))\n",
                "pts1=np.int0(pts1)\n",
                "cv2.circle(img, A, 5, (255,0,0), -1)\n",
                "cv2.circle(img, B, 5, (0,255,0), -1)\n",
                "cv2.circle(img, C, 5, (0,0,255), -1)\n",
                "\n",
                "cv2.line(img, (width,0), (width,height), (255,0,255), 2)\n",
                "cv2.line(img, (0,height), (width,height), (255,0,255), 2)\n",
                "cv2.polylines(img, [pts1], isClosed=True, color=(255,0,0), thickness=2)\n",
                "show_images([img])"
            ]
        },
        {
            "cell_type": "markdown",
            "metadata": {},
            "source": [
                "# 已知四个点位置，求旋转矩形角度"
            ]
        },
        {
            "cell_type": "code",
            "execution_count": 7,
            "metadata": {},
            "outputs": [
                {
                    "name": "stdout",
                    "output_type": "stream",
                    "text": [
                        "(323.0, 295.4999694824219) (309.7359924316406, 43.041709899902344) 29.882831573486328\n"
                    ]
                },
                {
                    "data": {
                        "image/png": "[encoded data removed]",
                        "text/plain": [
                            "<Figure size 360x360 with 1 Axes>"
                        ]
                    },
                    "metadata": {
                        "needs_background": "light"
                    },
                    "output_type": "display_data"
                }
            ],
            "source": [
                "points=np.array([[200,200],[468,354],[446,391],[178,237]])\n",
                "\n",
                "# 创建一个旋转矩形\n",
                "rect = cv2.minAreaRect(points)\n",
                "\n",
                "# 获取矩形的中心点坐标、宽、高和角度\n",
                "center, size, angle = rect\n",
                "print(center, size, angle)\n",
                "\n",
                "# 将浮点型坐标转换为整型坐标\n",
                "center = (int(center[0]), int(center[1]))\n",
                "size = (int(size[0]), int(size[1]))\n",
                "\n",
                "img = np.zeros((600, 600, 3), dtype=np.uint8)\n",
                "box = cv2.boxPoints(rect)\n",
                "box = np.int0(box)\n",
                "cv2.drawContours(img,[box],0,(0,0,255),2)\n",
                "show_images([img])"
            ]
        },
        {
            "cell_type": "code",
            "execution_count": 8,
            "metadata": {},
            "outputs": [],
            "source": [
                "def min_area_rect(points):\n",
                "    # 点的个数\n",
                "    num_points = len(points)\n",
                "\n",
                "    # 找到最小矩形\n",
                "    min_area = float('inf')\n",
                "    min_rect = None\n",
                "\n",
                "    for i in range(num_points):\n",
                "        # 获取三个相邻点\n",
                "        p1 = points[i]\n",
                "        p2 = points[(i + 1) % num_points]\n",
                "        p3 = points[(i + 2) % num_points]\n",
                "\n",
                "        # 计算两个边的向量\n",
                "        v1 = (p2[0] - p1[0], p2[1] - p1[1])\n",
                "        v2 = (p3[0] - p2[0], p3[1] - p2[1])\n",
                "\n",
                "        # 计算两个边的长度\n",
                "        length1 = math.sqrt(v1[0] ** 2 + v1[1] ** 2)\n",
                "        length2 = math.sqrt(v2[0] ** 2 + v2[1] ** 2)\n",
                "\n",
                "        # 计算两个边的单位向量\n",
                "        unit_v1 = (v1[0] / length1, v1[1] / length1)\n",
                "        unit_v2 = (v2[0] / length2, v2[1] / length2)\n",
                "\n",
                "        # 计算两个边的夹角\n",
                "        dot_product = unit_v1[0] * unit_v2[0] + unit_v1[1] * unit_v2[1]\n",
                "        angle = math.acos(max(min(dot_product, 1), -1))\n",
                "\n",
                "        # 计算矩形的面积\n",
                "        area = length1 * length2 * math.sin(angle)\n",
                "\n",
                "        # 更新最小面积和对应的矩形\n",
                "        if area < min_area:\n",
                "            min_area = area\n",
                "            # 计算中心点\n",
                "            center_x = (p1[0] + p3[0]) / 2\n",
                "            center_y = (p1[1] + p3[1]) / 2\n",
                "            # 计算宽度和高度\n",
                "            width = length1\n",
                "            height = length2\n",
                "            # 计算角度\n",
                "            angle_degrees = math.degrees(math.atan2(v1[1], v1[0]))\n",
                "\n",
                "    return (center_x, center_y), (width, height), angle_degrees"
            ]
        },
        {
            "cell_type": "code",
            "execution_count": 9,
            "metadata": {},
            "outputs": [
                {
                    "data": {
                        "text/plain": [
                            "((323.0, 295.5), (309.0954545120326, 43.04648650006177), 29.882832345412833)"
                        ]
                    },
                    "execution_count": 9,
                    "metadata": {},
                    "output_type": "execute_result"
                }
            ],
            "source": [
                "min_area_rect(points)"
            ]
        }
    ],
    "metadata": {
        "kernelspec": {
            "display_name": "py37",
            "language": "python",
            "name": "python3"
        },
        "language_info": {
            "codemirror_mode": {
                "name": "ipython",
                "version": 3
            },
            "file_extension": ".py",
            "mimetype": "text/x-python",
            "name": "python",
            "nbconvert_exporter": "python",
            "pygments_lexer": "ipython3",
            "version": "3.7.9"
        }
    },
    "nbformat": 4,
    "nbformat_minor": 2
}
