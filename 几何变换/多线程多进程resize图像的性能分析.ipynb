{
 "cells": [
  {
   "cell_type": "markdown",
   "metadata": {},
   "source": [
    "本例研究多线程、多进程下，多大量图片resize的性能比较\n",
    "\n",
    "结果显示：使用多线程或多进程，可以提高resize对批量图片的处理速度"
   ]
  },
  {
   "cell_type": "code",
   "execution_count": 1,
   "metadata": {},
   "outputs": [],
   "source": [
    "import concurrent.futures as cf\n",
    "import random\n",
    "import time\n",
    "\n",
    "import cv2\n",
    "import numpy as np\n",
    "\n",
    "# 每张图片的处理过程\n",
    "def resize_image(i,w,h,type=1):\n",
    "    img_path=F'images/{i}.jpg'\n",
    "    img=cv2.imread(img_path,1)\n",
    "    \n",
    "    img=cv2.resize(img,(w,h),interpolation=type)\n",
    "    \n",
    "    img=img.astype(np.float64)\n",
    "    # 亮度变化\n",
    "    delta = random.uniform(-32, 32)\n",
    "    img += delta\n",
    "    # 对比度变化\n",
    "    alpha = random.uniform(0.5, 1.5)\n",
    "    img *= alpha\n",
    "    \n",
    "    # 归一化及标准化\n",
    "    img=img/255.0\n",
    "    mean=(0.406, 0.456, 0.485)\n",
    "    std=(0.225, 0.224, 0.229)\n",
    "    img -= mean\n",
    "    img /= std"
   ]
  },
  {
   "cell_type": "code",
   "execution_count": 2,
   "metadata": {},
   "outputs": [],
   "source": [
    "# 传递参数\n",
    "image_size=20\n",
    "image_idx=[i%image_size+1 for i in range(image_size*image_size)]\n",
    "resize_w=[512 for i in range(image_size*image_size)]\n",
    "resize_h=[512 for i in range(image_size*image_size)]"
   ]
  },
  {
   "cell_type": "code",
   "execution_count": 3,
   "metadata": {},
   "outputs": [
    {
     "name": "stdout",
     "output_type": "stream",
     "text": [
      "7.01 seconds\n"
     ]
    }
   ],
   "source": [
    "start = time.time()\n",
    "#without multiprocessing 普通调用\n",
    "for i in range(image_size*image_size):\n",
    "    resize_image(i%image_size+1,512,512)\n",
    "print(\"{} seconds\".format(round(time.time() - start,2)))"
   ]
  },
  {
   "cell_type": "code",
   "execution_count": 4,
   "metadata": {},
   "outputs": [
    {
     "name": "stdout",
     "output_type": "stream",
     "text": [
      "3.85 seconds\n"
     ]
    }
   ],
   "source": [
    "start = time.time()\n",
    "#using I/O bottleneck 多线程\n",
    "with cf.ThreadPoolExecutor(max_workers=2) as p:\n",
    "    processing = p.map(resize_image,image_idx,resize_w,resize_h)\n",
    "print(\"{} seconds\".format(round(time.time() - start,2)))"
   ]
  },
  {
   "cell_type": "code",
   "execution_count": 5,
   "metadata": {},
   "outputs": [
    {
     "name": "stdout",
     "output_type": "stream",
     "text": [
      "3.73 seconds\n"
     ]
    }
   ],
   "source": [
    "start = time.time()\n",
    "#using CPU bottleneck 多进程\n",
    "with cf.ProcessPoolExecutor(max_workers=2) as p:\n",
    "    processing = p.map(resize_image,image_idx,resize_w,resize_h)\n",
    "print(\"{} seconds\".format(round(time.time() - start,2)))"
   ]
  }
 ],
 "metadata": {
  "kernelspec": {
   "display_name": "py37",
   "language": "python",
   "name": "python3"
  },
  "language_info": {
   "codemirror_mode": {
    "name": "ipython",
    "version": 3
   },
   "file_extension": ".py",
   "mimetype": "text/x-python",
   "name": "python",
   "nbconvert_exporter": "python",
   "pygments_lexer": "ipython3",
   "version": "3.7.9"
  }
 },
 "nbformat": 4,
 "nbformat_minor": 2
}
