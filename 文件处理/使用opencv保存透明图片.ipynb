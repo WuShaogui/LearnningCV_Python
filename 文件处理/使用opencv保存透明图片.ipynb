{
 "cells": [
  {
   "cell_type": "code",
   "execution_count": 1,
   "metadata": {},
   "outputs": [],
   "source": [
    "# read code tools\n",
    "# share in https://gist.github.com/WuShaogui/19c690bde2a0fe70b061d50e20129531\n",
    "import sys\n",
    "import os.path as osp\n",
    "sys.path.append('/home/wushaogui/ReadCode/')\n",
    "from my_read_code_tools import *"
   ]
  },
  {
   "cell_type": "code",
   "execution_count": 2,
   "metadata": {},
   "outputs": [
    {
     "data": {
      "image/png": "[encoded data removed]",
      "text/plain": [
       "<Figure size 720x360 with 2 Axes>"
      ]
     },
     "metadata": {
      "needs_background": "light"
     },
     "output_type": "display_data"
    }
   ],
   "source": [
    "import numpy as np\n",
    "import cv2\n",
    "\n",
    "rgb=np.zeros((1000,1000,3),dtype=np.uint8)\n",
    "rgb=cv2.rectangle(rgb,(200,200),(500,500),(255,150,100),-1,cv2.LINE_AA)\n",
    "\n",
    "alpha=np.zeros((1000,1000,1),dtype=np.uint8)\n",
    "alpha=cv2.rectangle(alpha,(200,200),(500,500),(255),-1,cv2.LINE_AA)\n",
    "\n",
    "show_images([rgb,alpha])"
   ]
  },
  {
   "cell_type": "code",
   "execution_count": 3,
   "metadata": {},
   "outputs": [
    {
     "name": "stdout",
     "output_type": "stream",
     "text": [
      "(1000, 1000, 4)\n"
     ]
    },
    {
     "data": {
      "image/png": "[encoded data removed]",
      "text/plain": [
       "<Figure size 360x360 with 1 Axes>"
      ]
     },
     "metadata": {
      "needs_background": "light"
     },
     "output_type": "display_data"
    }
   ],
   "source": [
    "rgba=np.concatenate([rgb,alpha],axis=-1)\n",
    "print(rgba.shape)\n",
    "show_images([rgba])"
   ]
  }
 ],
 "metadata": {
  "kernelspec": {
   "display_name": "py37",
   "language": "python",
   "name": "python3"
  },
  "language_info": {
   "codemirror_mode": {
    "name": "ipython",
    "version": 3
   },
   "file_extension": ".py",
   "mimetype": "text/x-python",
   "name": "python",
   "nbconvert_exporter": "python",
   "pygments_lexer": "ipython3",
   "version": "3.7.9"
  }
 },
 "nbformat": 4,
 "nbformat_minor": 2
}
